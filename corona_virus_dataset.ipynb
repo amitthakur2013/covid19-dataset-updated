{
  "nbformat": 4,
  "nbformat_minor": 0,
  "metadata": {
    "colab": {
      "name": "corona-virus-dataset.ipynb",
      "provenance": [],
      "toc_visible": true,
      "authorship_tag": "ABX9TyOrLP9699NRXN/HNFZU7Csc",
      "include_colab_link": true
    },
    "kernelspec": {
      "name": "python3",
      "display_name": "Python 3"
    }
  },
  "cells": [
    {
      "cell_type": "markdown",
      "metadata": {
        "id": "view-in-github",
        "colab_type": "text"
      },
      "source": [
        "<a href=\"https://colab.research.google.com/github/amitthakur2013/covid19-dataset-updated/blob/master/corona_virus_dataset.ipynb\" target=\"_parent\"><img src=\"https://colab.research.google.com/assets/colab-badge.svg\" alt=\"Open In Colab\"/></a>"
      ]
    },
    {
      "cell_type": "code",
      "metadata": {
        "id": "smN2BXZbKOEy",
        "colab_type": "code",
        "colab": {}
      },
      "source": [
        "import requests\n",
        "import json\n",
        "import csv"
      ],
      "execution_count": 0,
      "outputs": []
    },
    {
      "cell_type": "code",
      "metadata": {
        "id": "Q0NmpTQXKjuM",
        "colab_type": "code",
        "colab": {}
      },
      "source": [
        "countries=requests.get(\"https://covid19.mathdro.id/api/countries\").json()['countries']"
      ],
      "execution_count": 0,
      "outputs": []
    },
    {
      "cell_type": "code",
      "metadata": {
        "id": "3mmPKTfrK5uS",
        "colab_type": "code",
        "colab": {
          "base_uri": "https://localhost:8080/",
          "height": 54
        },
        "outputId": "af886a12-3106-49fc-f5af-b498c133bd3c"
      },
      "source": [
        "l=[]\n",
        "for key,value in countries.items():\n",
        "  res=requests.get(\"https://covid19.mathdro.id/api/countries/{0}\".format(value)).json()\n",
        "  if not('error' in res):\n",
        "    a={'Country':key,'Confirmed Cases':res['confirmed']['value'],'Recovered Cases':res['recovered']['value'],'Deaths':res['deaths']['value']}\n",
        "  else:\n",
        "    a={'Country':key,'Confirmed Cases':None,'Recovered Cases':None,'Deaths':None}\n",
        "  l.append(a)\n",
        "print(l)"
      ],
      "execution_count": 23,
      "outputs": [
        {
          "output_type": "stream",
          "text": [
            "[{'Country': 'Afghanistan', 'Confirmed Cases': 40, 'Recovered Cases': 1, 'Deaths': 1}, {'Country': 'Aland Islands', 'Confirmed Cases': 0, 'Recovered Cases': 0, 'Deaths': 0}, {'Country': 'Albania', 'Confirmed Cases': 89, 'Recovered Cases': 2, 'Deaths': 2}, {'Country': 'Algeria', 'Confirmed Cases': 201, 'Recovered Cases': 65, 'Deaths': 17}, {'Country': 'American Samoa', 'Confirmed Cases': None, 'Recovered Cases': None, 'Deaths': None}, {'Country': 'Andorra', 'Confirmed Cases': 113, 'Recovered Cases': 1, 'Deaths': 1}, {'Country': 'Angola', 'Confirmed Cases': 2, 'Recovered Cases': 0, 'Deaths': 0}, {'Country': 'Anguilla', 'Confirmed Cases': None, 'Recovered Cases': None, 'Deaths': None}, {'Country': 'Antarctica', 'Confirmed Cases': 0, 'Recovered Cases': 0, 'Deaths': 0}, {'Country': 'Antigua and Barbuda', 'Confirmed Cases': 1, 'Recovered Cases': 0, 'Deaths': 0}, {'Country': 'Argentina', 'Confirmed Cases': 225, 'Recovered Cases': 3, 'Deaths': 4}, {'Country': 'Armenia', 'Confirmed Cases': 194, 'Recovered Cases': 2, 'Deaths': 0}, {'Country': 'Aruba', 'Confirmed Cases': None, 'Recovered Cases': None, 'Deaths': None}, {'Country': 'Australia', 'Confirmed Cases': 1314, 'Recovered Cases': 88, 'Deaths': 7}, {'Country': 'Austria', 'Confirmed Cases': 3244, 'Recovered Cases': 9, 'Deaths': 16}, {'Country': 'Azerbaijan', 'Confirmed Cases': 65, 'Recovered Cases': 10, 'Deaths': 1}, {'Country': 'Bahamas', 'Confirmed Cases': None, 'Recovered Cases': None, 'Deaths': None}, {'Country': 'Bahrain', 'Confirmed Cases': 332, 'Recovered Cases': 149, 'Deaths': 2}, {'Country': 'Bangladesh', 'Confirmed Cases': 27, 'Recovered Cases': 3, 'Deaths': 2}, {'Country': 'Barbados', 'Confirmed Cases': 14, 'Recovered Cases': 0, 'Deaths': 0}, {'Country': 'Belarus', 'Confirmed Cases': 76, 'Recovered Cases': 15, 'Deaths': 0}, {'Country': 'Belgium', 'Confirmed Cases': 3401, 'Recovered Cases': 263, 'Deaths': 75}, {'Country': 'Belize', 'Confirmed Cases': None, 'Recovered Cases': None, 'Deaths': None}, {'Country': 'Benin', 'Confirmed Cases': 2, 'Recovered Cases': 0, 'Deaths': 0}, {'Country': 'Bermuda', 'Confirmed Cases': 0, 'Recovered Cases': 0, 'Deaths': 0}, {'Country': 'Bhutan', 'Confirmed Cases': 2, 'Recovered Cases': 0, 'Deaths': 0}, {'Country': 'Bolivia', 'Confirmed Cases': 24, 'Recovered Cases': 0, 'Deaths': 0}, {'Country': 'Bonaire, Saint Eustatius and Saba ', 'Confirmed Cases': None, 'Recovered Cases': None, 'Deaths': None}, {'Country': 'Bosnia and Herzegovina', 'Confirmed Cases': 126, 'Recovered Cases': 2, 'Deaths': 1}, {'Country': 'Botswana', 'Confirmed Cases': None, 'Recovered Cases': None, 'Deaths': None}, {'Country': 'Bouvet Island', 'Confirmed Cases': None, 'Recovered Cases': None, 'Deaths': None}, {'Country': 'Brazil', 'Confirmed Cases': 1593, 'Recovered Cases': 2, 'Deaths': 25}, {'Country': 'British Indian Ocean Territory', 'Confirmed Cases': None, 'Recovered Cases': None, 'Deaths': None}, {'Country': 'British Virgin Islands', 'Confirmed Cases': None, 'Recovered Cases': None, 'Deaths': None}, {'Country': 'Brunei', 'Confirmed Cases': 88, 'Recovered Cases': 2, 'Deaths': 0}, {'Country': 'Bulgaria', 'Confirmed Cases': 187, 'Recovered Cases': 3, 'Deaths': 3}, {'Country': 'Burkina Faso', 'Confirmed Cases': 75, 'Recovered Cases': 5, 'Deaths': 4}, {'Country': 'Burundi', 'Confirmed Cases': None, 'Recovered Cases': None, 'Deaths': None}, {'Country': 'Cambodia', 'Confirmed Cases': 84, 'Recovered Cases': 1, 'Deaths': 0}, {'Country': 'Cameroon', 'Confirmed Cases': 40, 'Recovered Cases': 0, 'Deaths': 0}, {'Country': 'Canada', 'Confirmed Cases': 1470, 'Recovered Cases': 10, 'Deaths': 21}, {'Country': 'Cape Verde', 'Confirmed Cases': None, 'Recovered Cases': None, 'Deaths': None}, {'Country': 'Cayman Islands', 'Confirmed Cases': None, 'Recovered Cases': None, 'Deaths': None}, {'Country': 'Central African Republic', 'Confirmed Cases': 3, 'Recovered Cases': 0, 'Deaths': 0}, {'Country': 'Chad', 'Confirmed Cases': 1, 'Recovered Cases': 0, 'Deaths': 0}, {'Country': 'Chile', 'Confirmed Cases': 632, 'Recovered Cases': 8, 'Deaths': 1}, {'Country': 'China', 'Confirmed Cases': 81432, 'Recovered Cases': 72813, 'Deaths': 3274}, {'Country': 'Christmas Island', 'Confirmed Cases': None, 'Recovered Cases': None, 'Deaths': None}, {'Country': 'Cocos Islands', 'Confirmed Cases': None, 'Recovered Cases': None, 'Deaths': None}, {'Country': 'Colombia', 'Confirmed Cases': 231, 'Recovered Cases': 3, 'Deaths': 2}, {'Country': 'Comoros', 'Confirmed Cases': None, 'Recovered Cases': None, 'Deaths': None}, {'Country': 'Cook Islands', 'Confirmed Cases': None, 'Recovered Cases': None, 'Deaths': None}, {'Country': 'Costa Rica', 'Confirmed Cases': 134, 'Recovered Cases': 2, 'Deaths': 2}, {'Country': 'Croatia', 'Confirmed Cases': 254, 'Recovered Cases': 5, 'Deaths': 1}, {'Country': 'Cuba', 'Confirmed Cases': 35, 'Recovered Cases': 0, 'Deaths': 1}, {'Country': 'Curacao', 'Confirmed Cases': None, 'Recovered Cases': None, 'Deaths': None}, {'Country': 'Cyprus', 'Confirmed Cases': 95, 'Recovered Cases': 3, 'Deaths': 1}, {'Country': 'Czech Republic', 'Confirmed Cases': None, 'Recovered Cases': None, 'Deaths': None}, {'Country': 'Czechia', 'Confirmed Cases': None, 'Recovered Cases': None, 'Deaths': None}, {'Country': 'Democratic Republic of the Congo', 'Confirmed Cases': None, 'Recovered Cases': None, 'Deaths': None}, {'Country': 'Denmark', 'Confirmed Cases': 1514, 'Recovered Cases': 1, 'Deaths': 13}, {'Country': 'Djibouti', 'Confirmed Cases': 1, 'Recovered Cases': 0, 'Deaths': 0}, {'Country': 'Dominica', 'Confirmed Cases': 1, 'Recovered Cases': 0, 'Deaths': 0}, {'Country': 'Dominican Republic', 'Confirmed Cases': 202, 'Recovered Cases': 0, 'Deaths': 3}, {'Country': 'East Timor', 'Confirmed Cases': None, 'Recovered Cases': None, 'Deaths': None}, {'Country': 'Ecuador', 'Confirmed Cases': 789, 'Recovered Cases': 3, 'Deaths': 14}, {'Country': 'Egypt', 'Confirmed Cases': 327, 'Recovered Cases': 56, 'Deaths': 14}, {'Country': 'El Salvador', 'Confirmed Cases': 3, 'Recovered Cases': 0, 'Deaths': 0}, {'Country': 'Equatorial Guinea', 'Confirmed Cases': 6, 'Recovered Cases': 0, 'Deaths': 0}, {'Country': 'Eritrea', 'Confirmed Cases': 1, 'Recovered Cases': 0, 'Deaths': 0}, {'Country': 'Estonia', 'Confirmed Cases': 326, 'Recovered Cases': 2, 'Deaths': 0}, {'Country': 'Ethiopia', 'Confirmed Cases': 11, 'Recovered Cases': 4, 'Deaths': 0}, {'Country': 'Falkland Islands', 'Confirmed Cases': None, 'Recovered Cases': None, 'Deaths': None}, {'Country': 'Faroe Islands', 'Confirmed Cases': None, 'Recovered Cases': None, 'Deaths': None}, {'Country': 'Fiji', 'Confirmed Cases': 2, 'Recovered Cases': 0, 'Deaths': 0}, {'Country': 'Finland', 'Confirmed Cases': 626, 'Recovered Cases': 10, 'Deaths': 1}, {'Country': 'France', 'Confirmed Cases': 16044, 'Recovered Cases': 2200, 'Deaths': 674}, {'Country': 'French Guiana', 'Confirmed Cases': 18, 'Recovered Cases': 6, 'Deaths': 0}, {'Country': 'French Polynesia', 'Confirmed Cases': None, 'Recovered Cases': None, 'Deaths': None}, {'Country': 'French Southern Territories', 'Confirmed Cases': None, 'Recovered Cases': None, 'Deaths': None}, {'Country': 'Gabon', 'Confirmed Cases': 5, 'Recovered Cases': 0, 'Deaths': 1}, {'Country': 'Gambia, The', 'Confirmed Cases': 1, 'Recovered Cases': 0, 'Deaths': 0}, {'Country': 'Georgia', 'Confirmed Cases': 54, 'Recovered Cases': 3, 'Deaths': 0}, {'Country': 'Germany', 'Confirmed Cases': 24873, 'Recovered Cases': 266, 'Deaths': 94}, {'Country': 'Ghana', 'Confirmed Cases': 24, 'Recovered Cases': 0, 'Deaths': 1}, {'Country': 'Gibraltar', 'Confirmed Cases': None, 'Recovered Cases': None, 'Deaths': None}, {'Country': 'Greece', 'Confirmed Cases': 624, 'Recovered Cases': 19, 'Deaths': 15}, {'Country': 'Greenland', 'Confirmed Cases': None, 'Recovered Cases': None, 'Deaths': None}, {'Country': 'Grenada', 'Confirmed Cases': 1, 'Recovered Cases': 0, 'Deaths': 0}, {'Country': 'Guadeloupe', 'Confirmed Cases': 56, 'Recovered Cases': 0, 'Deaths': 0}, {'Country': 'Guam', 'Confirmed Cases': None, 'Recovered Cases': None, 'Deaths': None}, {'Country': 'Guatemala', 'Confirmed Cases': 19, 'Recovered Cases': 0, 'Deaths': 1}, {'Country': 'Guernsey', 'Confirmed Cases': None, 'Recovered Cases': None, 'Deaths': None}, {'Country': 'Guinea-Bissau', 'Confirmed Cases': None, 'Recovered Cases': None, 'Deaths': None}, {'Country': 'Guinea', 'Confirmed Cases': 2, 'Recovered Cases': 0, 'Deaths': 0}, {'Country': 'Guyana', 'Confirmed Cases': 7, 'Recovered Cases': 0, 'Deaths': 1}, {'Country': 'Haiti', 'Confirmed Cases': 2, 'Recovered Cases': 0, 'Deaths': 0}, {'Country': 'Heard Island and McDonald Islands', 'Confirmed Cases': None, 'Recovered Cases': None, 'Deaths': None}, {'Country': 'Honduras', 'Confirmed Cases': 26, 'Recovered Cases': 0, 'Deaths': 0}, {'Country': 'Hong Kong', 'Confirmed Cases': None, 'Recovered Cases': None, 'Deaths': None}, {'Country': 'Hungary', 'Confirmed Cases': 131, 'Recovered Cases': 16, 'Deaths': 6}, {'Country': 'Iceland', 'Confirmed Cases': 568, 'Recovered Cases': 36, 'Deaths': 1}, {'Country': 'India', 'Confirmed Cases': 396, 'Recovered Cases': 27, 'Deaths': 7}, {'Country': 'Indonesia', 'Confirmed Cases': 514, 'Recovered Cases': 29, 'Deaths': 48}, {'Country': 'Iran', 'Confirmed Cases': 21638, 'Recovered Cases': 7931, 'Deaths': 1685}, {'Country': 'Iraq', 'Confirmed Cases': 233, 'Recovered Cases': 57, 'Deaths': 20}, {'Country': 'Ireland', 'Confirmed Cases': 906, 'Recovered Cases': 5, 'Deaths': 4}, {'Country': 'Isle of Man', 'Confirmed Cases': None, 'Recovered Cases': None, 'Deaths': None}, {'Country': 'Israel', 'Confirmed Cases': 1071, 'Recovered Cases': 37, 'Deaths': 1}, {'Country': 'Italy', 'Confirmed Cases': 59138, 'Recovered Cases': 7024, 'Deaths': 5476}, {'Country': 'Ivory Coast', 'Confirmed Cases': None, 'Recovered Cases': None, 'Deaths': None}, {'Country': 'Jamaica', 'Confirmed Cases': 16, 'Recovered Cases': 2, 'Deaths': 1}, {'Country': 'Japan', 'Confirmed Cases': 1086, 'Recovered Cases': 235, 'Deaths': 40}, {'Country': 'Jersey', 'Confirmed Cases': None, 'Recovered Cases': None, 'Deaths': None}, {'Country': 'Jordan', 'Confirmed Cases': 112, 'Recovered Cases': 1, 'Deaths': 0}, {'Country': 'Kazakhstan', 'Confirmed Cases': 60, 'Recovered Cases': 0, 'Deaths': 0}, {'Country': 'Kenya', 'Confirmed Cases': 15, 'Recovered Cases': 0, 'Deaths': 0}, {'Country': 'Kiribati', 'Confirmed Cases': None, 'Recovered Cases': None, 'Deaths': None}, {'Country': 'Korea, South', 'Confirmed Cases': 8897, 'Recovered Cases': 2909, 'Deaths': 104}, {'Country': 'Kosovo', 'Confirmed Cases': 2, 'Recovered Cases': 0, 'Deaths': 0}, {'Country': 'Kuwait', 'Confirmed Cases': 188, 'Recovered Cases': 27, 'Deaths': 0}, {'Country': 'Kyrgyzstan', 'Confirmed Cases': 14, 'Recovered Cases': 0, 'Deaths': 0}, {'Country': 'Laos', 'Confirmed Cases': None, 'Recovered Cases': None, 'Deaths': None}, {'Country': 'Latvia', 'Confirmed Cases': 139, 'Recovered Cases': 1, 'Deaths': 0}, {'Country': 'Lebanon', 'Confirmed Cases': 248, 'Recovered Cases': 8, 'Deaths': 4}, {'Country': 'Lesotho', 'Confirmed Cases': None, 'Recovered Cases': None, 'Deaths': None}, {'Country': 'Liberia', 'Confirmed Cases': 3, 'Recovered Cases': 0, 'Deaths': 0}, {'Country': 'Libya', 'Confirmed Cases': None, 'Recovered Cases': None, 'Deaths': None}, {'Country': 'Liechtenstein', 'Confirmed Cases': 37, 'Recovered Cases': 0, 'Deaths': 0}, {'Country': 'Lithuania', 'Confirmed Cases': 131, 'Recovered Cases': 1, 'Deaths': 1}, {'Country': 'Luxembourg', 'Confirmed Cases': 798, 'Recovered Cases': 6, 'Deaths': 8}, {'Country': 'Macao', 'Confirmed Cases': None, 'Recovered Cases': None, 'Deaths': None}, {'Country': 'Macedonia', 'Confirmed Cases': None, 'Recovered Cases': None, 'Deaths': None}, {'Country': 'Madagascar', 'Confirmed Cases': 3, 'Recovered Cases': 0, 'Deaths': 0}, {'Country': 'Mainland China', 'Confirmed Cases': 81432, 'Recovered Cases': 72813, 'Deaths': 3274}, {'Country': 'Malawi', 'Confirmed Cases': None, 'Recovered Cases': None, 'Deaths': None}, {'Country': 'Malaysia', 'Confirmed Cases': 1306, 'Recovered Cases': 139, 'Deaths': 10}, {'Country': 'Maldives', 'Confirmed Cases': 13, 'Recovered Cases': 0, 'Deaths': 0}, {'Country': 'Mali', 'Confirmed Cases': None, 'Recovered Cases': None, 'Deaths': None}, {'Country': 'Malta', 'Confirmed Cases': 90, 'Recovered Cases': 2, 'Deaths': 0}, {'Country': 'Marshall Islands', 'Confirmed Cases': None, 'Recovered Cases': None, 'Deaths': None}, {'Country': 'Martinique', 'Confirmed Cases': 37, 'Recovered Cases': 0, 'Deaths': 1}, {'Country': 'Mauritania', 'Confirmed Cases': 2, 'Recovered Cases': 0, 'Deaths': 0}, {'Country': 'Mauritius', 'Confirmed Cases': 18, 'Recovered Cases': 0, 'Deaths': 1}, {'Country': 'Mayotte', 'Confirmed Cases': 11, 'Recovered Cases': 0, 'Deaths': 0}, {'Country': 'Mexico', 'Confirmed Cases': 251, 'Recovered Cases': 4, 'Deaths': 2}, {'Country': 'Micronesia', 'Confirmed Cases': None, 'Recovered Cases': None, 'Deaths': None}, {'Country': 'Moldova', 'Confirmed Cases': 94, 'Recovered Cases': 1, 'Deaths': 1}, {'Country': 'Monaco', 'Confirmed Cases': 23, 'Recovered Cases': 1, 'Deaths': 0}, {'Country': 'Mongolia', 'Confirmed Cases': 10, 'Recovered Cases': 0, 'Deaths': 0}, {'Country': 'Montenegro', 'Confirmed Cases': 21, 'Recovered Cases': 0, 'Deaths': 0}, {'Country': 'Montserrat', 'Confirmed Cases': None, 'Recovered Cases': None, 'Deaths': None}, {'Country': 'Morocco', 'Confirmed Cases': 115, 'Recovered Cases': 3, 'Deaths': 4}, {'Country': 'Mozambique', 'Confirmed Cases': 1, 'Recovered Cases': 0, 'Deaths': 0}, {'Country': 'Myanmar', 'Confirmed Cases': None, 'Recovered Cases': None, 'Deaths': None}, {'Country': 'Namibia', 'Confirmed Cases': 3, 'Recovered Cases': 0, 'Deaths': 0}, {'Country': 'Nauru', 'Confirmed Cases': None, 'Recovered Cases': None, 'Deaths': None}, {'Country': 'Nepal', 'Confirmed Cases': 2, 'Recovered Cases': 1, 'Deaths': 0}, {'Country': 'Netherlands', 'Confirmed Cases': 4216, 'Recovered Cases': 2, 'Deaths': 180}, {'Country': 'New Caledonia', 'Confirmed Cases': None, 'Recovered Cases': None, 'Deaths': None}, {'Country': 'New Zealand', 'Confirmed Cases': 66, 'Recovered Cases': 0, 'Deaths': 0}, {'Country': 'Nicaragua', 'Confirmed Cases': 2, 'Recovered Cases': 0, 'Deaths': 0}, {'Country': 'Niger', 'Confirmed Cases': 2, 'Recovered Cases': 0, 'Deaths': 0}, {'Country': 'Nigeria', 'Confirmed Cases': 30, 'Recovered Cases': 2, 'Deaths': 0}, {'Country': 'Niue', 'Confirmed Cases': None, 'Recovered Cases': None, 'Deaths': None}, {'Country': 'Norfolk Island', 'Confirmed Cases': None, 'Recovered Cases': None, 'Deaths': None}, {'Country': 'Northern Mariana Islands', 'Confirmed Cases': None, 'Recovered Cases': None, 'Deaths': None}, {'Country': 'Norway', 'Confirmed Cases': 2383, 'Recovered Cases': 1, 'Deaths': 7}, {'Country': 'Oman', 'Confirmed Cases': 55, 'Recovered Cases': 17, 'Deaths': 0}, {'Country': 'Pakistan', 'Confirmed Cases': 776, 'Recovered Cases': 5, 'Deaths': 5}, {'Country': 'Palau', 'Confirmed Cases': None, 'Recovered Cases': None, 'Deaths': None}, {'Country': 'Palestinian Territory', 'Confirmed Cases': None, 'Recovered Cases': None, 'Deaths': None}, {'Country': 'Panama', 'Confirmed Cases': 245, 'Recovered Cases': 0, 'Deaths': 3}, {'Country': 'Papua New Guinea', 'Confirmed Cases': 1, 'Recovered Cases': 0, 'Deaths': 0}, {'Country': 'Paraguay', 'Confirmed Cases': 22, 'Recovered Cases': 0, 'Deaths': 1}, {'Country': \"People's Republic of Korea\", 'Confirmed Cases': 0, 'Recovered Cases': 0, 'Deaths': 0}, {'Country': 'Peru', 'Confirmed Cases': 363, 'Recovered Cases': 1, 'Deaths': 5}, {'Country': 'Philippines', 'Confirmed Cases': 380, 'Recovered Cases': 17, 'Deaths': 25}, {'Country': 'Pitcairn', 'Confirmed Cases': None, 'Recovered Cases': None, 'Deaths': None}, {'Country': 'Poland', 'Confirmed Cases': 634, 'Recovered Cases': 1, 'Deaths': 7}, {'Country': 'Portugal', 'Confirmed Cases': 1600, 'Recovered Cases': 5, 'Deaths': 14}, {'Country': 'Puerto Rico', 'Confirmed Cases': 0, 'Recovered Cases': 0, 'Deaths': 0}, {'Country': 'Qatar', 'Confirmed Cases': 494, 'Recovered Cases': 33, 'Deaths': 0}, {'Country': 'Republic of the Congo', 'Confirmed Cases': None, 'Recovered Cases': None, 'Deaths': None}, {'Country': 'Reunion', 'Confirmed Cases': 47, 'Recovered Cases': 0, 'Deaths': 0}, {'Country': 'Romania', 'Confirmed Cases': 433, 'Recovered Cases': 64, 'Deaths': 3}, {'Country': 'Russia', 'Confirmed Cases': 367, 'Recovered Cases': 16, 'Deaths': 0}, {'Country': 'Rwanda', 'Confirmed Cases': 19, 'Recovered Cases': 0, 'Deaths': 0}, {'Country': 'Saint Barthelemy', 'Confirmed Cases': None, 'Recovered Cases': None, 'Deaths': None}, {'Country': 'Saint Helena', 'Confirmed Cases': None, 'Recovered Cases': None, 'Deaths': None}, {'Country': 'Saint Kitts and Nevis', 'Confirmed Cases': 0, 'Recovered Cases': 0, 'Deaths': 0}, {'Country': 'Saint Lucia', 'Confirmed Cases': 2, 'Recovered Cases': 0, 'Deaths': 0}, {'Country': 'Saint Martin', 'Confirmed Cases': 0, 'Recovered Cases': 0, 'Deaths': 0}, {'Country': 'Saint Pierre and Miquelon', 'Confirmed Cases': None, 'Recovered Cases': None, 'Deaths': None}, {'Country': 'Saint Vincent and the Grenadines', 'Confirmed Cases': 1, 'Recovered Cases': 0, 'Deaths': 0}, {'Country': 'Samoa', 'Confirmed Cases': None, 'Recovered Cases': None, 'Deaths': None}, {'Country': 'San Marino', 'Confirmed Cases': 160, 'Recovered Cases': 4, 'Deaths': 20}, {'Country': 'Sao Tome and Principe', 'Confirmed Cases': None, 'Recovered Cases': None, 'Deaths': None}, {'Country': 'Saudi Arabia', 'Confirmed Cases': 511, 'Recovered Cases': 16, 'Deaths': 0}, {'Country': 'Senegal', 'Confirmed Cases': 67, 'Recovered Cases': 5, 'Deaths': 0}, {'Country': 'Serbia', 'Confirmed Cases': 222, 'Recovered Cases': 1, 'Deaths': 2}, {'Country': 'Seychelles', 'Confirmed Cases': 7, 'Recovered Cases': 0, 'Deaths': 0}, {'Country': 'Sierra Leone', 'Confirmed Cases': None, 'Recovered Cases': None, 'Deaths': None}, {'Country': 'Singapore', 'Confirmed Cases': 455, 'Recovered Cases': 144, 'Deaths': 2}, {'Country': 'Sint Maarten', 'Confirmed Cases': 0, 'Recovered Cases': 0, 'Deaths': 0}, {'Country': 'Slovakia', 'Confirmed Cases': 185, 'Recovered Cases': 7, 'Deaths': 1}, {'Country': 'Slovenia', 'Confirmed Cases': 414, 'Recovered Cases': 0, 'Deaths': 2}, {'Country': 'Solomon Islands', 'Confirmed Cases': None, 'Recovered Cases': None, 'Deaths': None}, {'Country': 'Somalia', 'Confirmed Cases': 1, 'Recovered Cases': 0, 'Deaths': 0}, {'Country': 'South Africa', 'Confirmed Cases': 274, 'Recovered Cases': 0, 'Deaths': 0}, {'Country': 'South Georgia and the South Sandwich Islands', 'Confirmed Cases': None, 'Recovered Cases': None, 'Deaths': None}, {'Country': 'South Sudan', 'Confirmed Cases': None, 'Recovered Cases': None, 'Deaths': None}, {'Country': 'Spain', 'Confirmed Cases': 28768, 'Recovered Cases': 2575, 'Deaths': 1772}, {'Country': 'Sri Lanka', 'Confirmed Cases': 82, 'Recovered Cases': 3, 'Deaths': 0}, {'Country': 'Sudan', 'Confirmed Cases': 2, 'Recovered Cases': 0, 'Deaths': 1}, {'Country': 'Suriname', 'Confirmed Cases': 5, 'Recovered Cases': 0, 'Deaths': 0}, {'Country': 'Svalbard and Jan Mayen', 'Confirmed Cases': None, 'Recovered Cases': None, 'Deaths': None}, {'Country': 'Swaziland', 'Confirmed Cases': None, 'Recovered Cases': None, 'Deaths': None}, {'Country': 'Sweden', 'Confirmed Cases': 1934, 'Recovered Cases': 16, 'Deaths': 21}, {'Country': 'Switzerland', 'Confirmed Cases': 7245, 'Recovered Cases': 131, 'Deaths': 98}, {'Country': 'Syria', 'Confirmed Cases': 1, 'Recovered Cases': 0, 'Deaths': 0}, {'Country': 'Taiwan*', 'Confirmed Cases': 169, 'Recovered Cases': 28, 'Deaths': 2}, {'Country': 'Tajikistan', 'Confirmed Cases': None, 'Recovered Cases': None, 'Deaths': None}, {'Country': 'Tanzania', 'Confirmed Cases': 12, 'Recovered Cases': 0, 'Deaths': 0}, {'Country': 'Thailand', 'Confirmed Cases': 599, 'Recovered Cases': 44, 'Deaths': 1}, {'Country': 'Togo', 'Confirmed Cases': 16, 'Recovered Cases': 1, 'Deaths': 0}, {'Country': 'Tokelau', 'Confirmed Cases': None, 'Recovered Cases': None, 'Deaths': None}, {'Country': 'Tonga', 'Confirmed Cases': None, 'Recovered Cases': None, 'Deaths': None}, {'Country': 'Trinidad and Tobago', 'Confirmed Cases': 50, 'Recovered Cases': 1, 'Deaths': 0}, {'Country': 'Tunisia', 'Confirmed Cases': 75, 'Recovered Cases': 1, 'Deaths': 3}, {'Country': 'Turkey', 'Confirmed Cases': 1236, 'Recovered Cases': 0, 'Deaths': 30}, {'Country': 'Turkmenistan', 'Confirmed Cases': None, 'Recovered Cases': None, 'Deaths': None}, {'Country': 'Turks and Caicos Islands', 'Confirmed Cases': None, 'Recovered Cases': None, 'Deaths': None}, {'Country': 'Tuvalu', 'Confirmed Cases': None, 'Recovered Cases': None, 'Deaths': None}, {'Country': 'U.S. Virgin Islands', 'Confirmed Cases': None, 'Recovered Cases': None, 'Deaths': None}, {'Country': 'Uganda', 'Confirmed Cases': 1, 'Recovered Cases': 0, 'Deaths': 0}, {'Country': 'Ukraine', 'Confirmed Cases': 73, 'Recovered Cases': 1, 'Deaths': 3}, {'Country': 'United Arab Emirates', 'Confirmed Cases': 153, 'Recovered Cases': 38, 'Deaths': 2}, {'Country': 'United Kingdom', 'Confirmed Cases': 5741, 'Recovered Cases': 67, 'Deaths': 282}, {'Country': 'United States Minor Outlying Islands', 'Confirmed Cases': None, 'Recovered Cases': None, 'Deaths': None}, {'Country': 'Uruguay', 'Confirmed Cases': 135, 'Recovered Cases': 0, 'Deaths': 0}, {'Country': 'US', 'Confirmed Cases': 33276, 'Recovered Cases': 178, 'Deaths': 417}, {'Country': 'Uzbekistan', 'Confirmed Cases': 43, 'Recovered Cases': 0, 'Deaths': 0}, {'Country': 'Vanuatu', 'Confirmed Cases': None, 'Recovered Cases': None, 'Deaths': None}, {'Country': 'Vatican', 'Confirmed Cases': 0, 'Recovered Cases': 0, 'Deaths': 0}, {'Country': 'Venezuela', 'Confirmed Cases': 70, 'Recovered Cases': 15, 'Deaths': 0}, {'Country': 'Vietnam', 'Confirmed Cases': 113, 'Recovered Cases': 17, 'Deaths': 0}, {'Country': 'Wallis and Futuna', 'Confirmed Cases': None, 'Recovered Cases': None, 'Deaths': None}, {'Country': 'Western Sahara', 'Confirmed Cases': None, 'Recovered Cases': None, 'Deaths': None}, {'Country': 'Yemen', 'Confirmed Cases': None, 'Recovered Cases': None, 'Deaths': None}, {'Country': 'Zambia', 'Confirmed Cases': 3, 'Recovered Cases': 0, 'Deaths': 0}, {'Country': 'Zimbabwe', 'Confirmed Cases': 3, 'Recovered Cases': 0, 'Deaths': 0}]\n"
          ],
          "name": "stdout"
        }
      ]
    },
    {
      "cell_type": "code",
      "metadata": {
        "id": "BNk13kP-PPdb",
        "colab_type": "code",
        "colab": {}
      },
      "source": [
        "data_file = open('data_file.csv', 'w')"
      ],
      "execution_count": 0,
      "outputs": []
    },
    {
      "cell_type": "code",
      "metadata": {
        "id": "D5ywMYnOP4O_",
        "colab_type": "code",
        "colab": {}
      },
      "source": [
        "# create the csv writer object \n",
        "csv_writer = csv.writer(data_file) "
      ],
      "execution_count": 0,
      "outputs": []
    },
    {
      "cell_type": "code",
      "metadata": {
        "id": "NcpXZD9IP-u4",
        "colab_type": "code",
        "colab": {}
      },
      "source": [
        "count = 0  \n",
        "for emp in l: \n",
        "    if count == 0: \n",
        "        # Writing headers of CSV file \n",
        "        header = emp.keys() \n",
        "        csv_writer.writerow(header) \n",
        "        count += 1\n",
        "    # Writing data of CSV file \n",
        "    csv_writer.writerow(emp.values()) \n",
        "  \n",
        "data_file.close() "
      ],
      "execution_count": 0,
      "outputs": []
    },
    {
      "cell_type": "code",
      "metadata": {
        "id": "3NJoSRKVQSVb",
        "colab_type": "code",
        "colab": {}
      },
      "source": [
        "import pandas as pd\n",
        "import numpy as np"
      ],
      "execution_count": 0,
      "outputs": []
    },
    {
      "cell_type": "code",
      "metadata": {
        "id": "q90yRg1YQauq",
        "colab_type": "code",
        "colab": {}
      },
      "source": [
        "df=pd.read_csv('data_file.csv')"
      ],
      "execution_count": 0,
      "outputs": []
    },
    {
      "cell_type": "code",
      "metadata": {
        "id": "lD4plxRdQgxw",
        "colab_type": "code",
        "colab": {
          "base_uri": "https://localhost:8080/",
          "height": 204
        },
        "outputId": "305bfc45-5fa8-4323-86c2-1ea46f6b88c4"
      },
      "source": [
        "df.head()"
      ],
      "execution_count": 41,
      "outputs": [
        {
          "output_type": "execute_result",
          "data": {
            "text/html": [
              "<div>\n",
              "<style scoped>\n",
              "    .dataframe tbody tr th:only-of-type {\n",
              "        vertical-align: middle;\n",
              "    }\n",
              "\n",
              "    .dataframe tbody tr th {\n",
              "        vertical-align: top;\n",
              "    }\n",
              "\n",
              "    .dataframe thead th {\n",
              "        text-align: right;\n",
              "    }\n",
              "</style>\n",
              "<table border=\"1\" class=\"dataframe\">\n",
              "  <thead>\n",
              "    <tr style=\"text-align: right;\">\n",
              "      <th></th>\n",
              "      <th>Country</th>\n",
              "      <th>Confirmed Cases</th>\n",
              "      <th>Recovered Cases</th>\n",
              "      <th>Deaths</th>\n",
              "    </tr>\n",
              "  </thead>\n",
              "  <tbody>\n",
              "    <tr>\n",
              "      <th>0</th>\n",
              "      <td>Afghanistan</td>\n",
              "      <td>40.0</td>\n",
              "      <td>1.0</td>\n",
              "      <td>1.0</td>\n",
              "    </tr>\n",
              "    <tr>\n",
              "      <th>1</th>\n",
              "      <td>Aland Islands</td>\n",
              "      <td>0.0</td>\n",
              "      <td>0.0</td>\n",
              "      <td>0.0</td>\n",
              "    </tr>\n",
              "    <tr>\n",
              "      <th>2</th>\n",
              "      <td>Albania</td>\n",
              "      <td>89.0</td>\n",
              "      <td>2.0</td>\n",
              "      <td>2.0</td>\n",
              "    </tr>\n",
              "    <tr>\n",
              "      <th>3</th>\n",
              "      <td>Algeria</td>\n",
              "      <td>201.0</td>\n",
              "      <td>65.0</td>\n",
              "      <td>17.0</td>\n",
              "    </tr>\n",
              "    <tr>\n",
              "      <th>4</th>\n",
              "      <td>American Samoa</td>\n",
              "      <td>NaN</td>\n",
              "      <td>NaN</td>\n",
              "      <td>NaN</td>\n",
              "    </tr>\n",
              "  </tbody>\n",
              "</table>\n",
              "</div>"
            ],
            "text/plain": [
              "          Country  Confirmed Cases  Recovered Cases  Deaths\n",
              "0     Afghanistan             40.0              1.0     1.0\n",
              "1   Aland Islands              0.0              0.0     0.0\n",
              "2         Albania             89.0              2.0     2.0\n",
              "3         Algeria            201.0             65.0    17.0\n",
              "4  American Samoa              NaN              NaN     NaN"
            ]
          },
          "metadata": {
            "tags": []
          },
          "execution_count": 41
        }
      ]
    },
    {
      "cell_type": "code",
      "metadata": {
        "id": "Z8OBHZ7sQsyJ",
        "colab_type": "code",
        "colab": {}
      },
      "source": [
        ""
      ],
      "execution_count": 0,
      "outputs": []
    },
    {
      "cell_type": "code",
      "metadata": {
        "id": "PkCiW3YkX1ub",
        "colab_type": "code",
        "colab": {}
      },
      "source": [
        ""
      ],
      "execution_count": 0,
      "outputs": []
    },
    {
      "cell_type": "code",
      "metadata": {
        "id": "7301r_9oX3N6",
        "colab_type": "code",
        "colab": {}
      },
      "source": [
        ""
      ],
      "execution_count": 0,
      "outputs": []
    }
  ]
}